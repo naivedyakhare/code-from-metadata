{
 "cells": [
  {
   "cell_type": "code",
   "execution_count": 46,
   "metadata": {},
   "outputs": [],
   "source": [
    "import pandas as pd\n",
    "df = pd.read_excel(\"SDTM Data Spec.xlsx\")\n",
    "df = pd.read_csv(\"metadata.csv\")"
   ]
  },
  {
   "cell_type": "code",
   "execution_count": 47,
   "metadata": {},
   "outputs": [
    {
     "data": {
      "text/html": [
       "<div>\n",
       "<style scoped>\n",
       "    .dataframe tbody tr th:only-of-type {\n",
       "        vertical-align: middle;\n",
       "    }\n",
       "\n",
       "    .dataframe tbody tr th {\n",
       "        vertical-align: top;\n",
       "    }\n",
       "\n",
       "    .dataframe thead th {\n",
       "        text-align: right;\n",
       "    }\n",
       "</style>\n",
       "<table border=\"1\" class=\"dataframe\">\n",
       "  <thead>\n",
       "    <tr style=\"text-align: right;\">\n",
       "      <th></th>\n",
       "      <th>target dataset</th>\n",
       "      <th>target variable</th>\n",
       "      <th>mapping</th>\n",
       "      <th>example</th>\n",
       "    </tr>\n",
       "  </thead>\n",
       "  <tbody>\n",
       "    <tr>\n",
       "      <th>0</th>\n",
       "      <td>dm</td>\n",
       "      <td>usubjid</td>\n",
       "      <td>usubjid = demo.studyid + demo.siteid + demo.s...</td>\n",
       "      <td>231-011-0001</td>\n",
       "    </tr>\n",
       "    <tr>\n",
       "      <th>1</th>\n",
       "      <td>ae</td>\n",
       "      <td>usubjid</td>\n",
       "      <td>usubjid = demo1.studyid + demo1.siteid</td>\n",
       "      <td>231-011</td>\n",
       "    </tr>\n",
       "  </tbody>\n",
       "</table>\n",
       "</div>"
      ],
      "text/plain": [
       "  target dataset  target variable  \\\n",
       "0             dm          usubjid   \n",
       "1             ae          usubjid   \n",
       "\n",
       "                                             mapping        example  \n",
       "0   usubjid = demo.studyid + demo.siteid + demo.s...   231-011-0001  \n",
       "1             usubjid = demo1.studyid + demo1.siteid        231-011  "
      ]
     },
     "execution_count": 47,
     "metadata": {},
     "output_type": "execute_result"
    }
   ],
   "source": [
    "df.head()"
   ]
  },
  {
   "cell_type": "code",
   "execution_count": 45,
   "metadata": {},
   "outputs": [
    {
     "name": "stdout",
     "output_type": "stream",
     "text": [
      "target dataset\t target variable\t mapping\t example\t"
     ]
    }
   ],
   "source": [
    "row = \"sdfsd || fdsf || fsdf ||\"\n",
    "print(row)\n",
    "print"
   ]
  },
  {
   "cell_type": "code",
   "execution_count": 43,
   "metadata": {},
   "outputs": [
    {
     "name": "stdout",
     "output_type": "stream",
     "text": [
      "2\n",
      "\n",
      "\n",
      "dm  usubjid  usubjid = demo.studyid + demo.siteid + demo.subjid  231-011-0001 \n",
      "ae  usubjid  usubjid = demo1.studyid + demo1.siteid  231-011 \n"
     ]
    }
   ],
   "source": [
    "n_rows = len(df)\n",
    "print(n_rows)\n",
    "print()\n",
    "print()\n",
    "for i in range(n_rows):\n",
    "    row = \"\"\n",
    "    for item in df.iloc[i,:]:\n",
    "        row += str(item) + \" \"\n",
    "    print(row)\n",
    "    \n",
    "#     print(df.)"
   ]
  },
  {
   "cell_type": "code",
   "execution_count": null,
   "metadata": {},
   "outputs": [],
   "source": [
    "\n"
   ]
  },
  {
   "cell_type": "code",
   "execution_count": null,
   "metadata": {},
   "outputs": [],
   "source": []
  },
  {
   "cell_type": "code",
   "execution_count": null,
   "metadata": {},
   "outputs": [],
   "source": []
  },
  {
   "cell_type": "code",
   "execution_count": 52,
   "metadata": {},
   "outputs": [],
   "source": [
    "text = '''target dataset ||  target variable ||  mapping ||  example\n",
    "dm ||  usubjid ||  usubjid = demo.studyid + demo.siteid + demo.subjid ||  231-011-0001\n",
    "ae ||  usubjid ||  usubjid = demo1.studyid + demo1.siteid ||  231-011\n",
    "'''"
   ]
  },
  {
   "cell_type": "code",
   "execution_count": 53,
   "metadata": {},
   "outputs": [
    {
     "name": "stdout",
     "output_type": "stream",
     "text": [
      "target dataset ||  target variable ||  mapping ||  example\n",
      "\n",
      "['dm ||  usubjid ||  usubjid = demo.studyid + demo.siteid + demo.subjid ||  231-011-0001', 'ae ||  usubjid ||  usubjid = demo1.studyid + demo1.siteid ||  231-011', '']\n"
     ]
    }
   ],
   "source": [
    "data = text.split(\"\\n\")\n",
    "columns = data[0]\n",
    "metadata = data[1:]\n",
    "print(columns)\n",
    "print()\n",
    "print(metadata)"
   ]
  }
 ],
 "metadata": {
  "kernelspec": {
   "display_name": "Python 3 (ipykernel)",
   "language": "python",
   "name": "python3"
  },
  "language_info": {
   "codemirror_mode": {
    "name": "ipython",
    "version": 3
   },
   "file_extension": ".py",
   "mimetype": "text/x-python",
   "name": "python",
   "nbconvert_exporter": "python",
   "pygments_lexer": "ipython3",
   "version": "3.11.9"
  }
 },
 "nbformat": 4,
 "nbformat_minor": 2
}
